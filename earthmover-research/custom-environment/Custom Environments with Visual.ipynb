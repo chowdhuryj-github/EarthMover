{
 "cells": [
  {
   "cell_type": "code",
   "execution_count": 1,
   "id": "1d9a819b-8288-4807-8a6d-9d36d0a5b669",
   "metadata": {},
   "outputs": [
    {
     "name": "stdout",
     "output_type": "stream",
     "text": [
      "pygame 2.6.1 (SDL 2.28.4, Python 3.13.1)\n",
      "Hello from the pygame community. https://www.pygame.org/contribute.html\n"
     ]
    }
   ],
   "source": [
    "# all necessry imports\n",
    "from enum import Enum\n",
    "import numpy as np\n",
    "import pygame\n",
    "import gymnasium as gym\n",
    "from gymnasium import spaces"
   ]
  },
  {
   "cell_type": "code",
   "execution_count": 2,
   "id": "d868458a-5b2c-4577-a37c-44bf02ac06fa",
   "metadata": {},
   "outputs": [],
   "source": [
    "# declare the actions as a class\n",
    "class Actions(Enum):\n",
    "    RIGHT = 0\n",
    "    UP = 1\n",
    "    LEFT = 2\n",
    "    DOWN = 3"
   ]
  },
  {
   "cell_type": "code",
   "execution_count": 3,
   "id": "d3dd535b-4d17-4109-8c12-79a66afe3e4d",
   "metadata": {},
   "outputs": [],
   "source": [
    "class GridWorldEnv(gym.Env):\n",
    "    metadata = {\"render_modes\": [\"human\", \"rgb_array\"], \"render_fps\": 4}\n",
    "\n",
    "    def __init__(self, render_mode=None, size=5):\n",
    "        \n",
    "        # size of square grid and pygame window\n",
    "        self.size = size\n",
    "        self.window_suze = 512\n",
    "\n",
    "        # observations are dictionaries with the agent's and target's location\n",
    "        self.observation_space = spaces.Dict(\n",
    "            {\n",
    "                \"agent\": spaces.Box(0, size - 1, shape=(2,), dtype=int),\n",
    "                \"target\": spaces.Box(0, size - 1, shape=(2,), dtype=int),\n",
    "            }\n",
    "        )\n",
    "\n",
    "        # assinging agent and target location\n",
    "        self._agent_location = np.array([-1, -1], dtype=int)\n",
    "        self._target_location = np.array([-1, -1], dtype=int)\n",
    "\n",
    "        # 4 assigned actions\n",
    "        self.action_space = spaces.Discrete(4)\n",
    "\n",
    "        \"\"\"\n",
    "        a dictionary that maps abstract actions from action space to direction \n",
    "        walked in if action is taken\n",
    "        \"\"\"\n",
    "        self._action_to_direction = {\n",
    "            Actions.RIGHT.value: np.array([1, 0]),\n",
    "            Actions.UP.value: np.array([0, 1]),\n",
    "            Actions.LEFT.value: np.array([-1, 0]),\n",
    "            Actions.DOWN.value: np.array([0, -1]),\n",
    "        }\n",
    "\n",
    "        assert render_mode is None or render_mode in self.metadata[\"render_modes\"]\n",
    "        self.render_mode = render_mode\n",
    "\n",
    "        \"\"\"\n",
    "        if human rendering is used, 'self.window' will be a reference to the window\n",
    "        we draw to. 'self.clock' will be a clock that is used to ensure that the \n",
    "        environment is rendered at the correct framerate in human-mode\n",
    "        \"\"\"\n",
    "\n",
    "        self.window = None\n",
    "        self.clock = None"
   ]
  },
  {
   "cell_type": "code",
   "execution_count": 5,
   "id": "5686b3fb-947f-41ae-8f1b-308465751408",
   "metadata": {},
   "outputs": [],
   "source": [
    "def _get_obs(self):\n",
    "    return {\"agent\": self._agent_location, \"target\": self._target_location}"
   ]
  },
  {
   "cell_type": "code",
   "execution_count": null,
   "id": "d0e81dd9-cfdc-415d-8637-77989f08e6ca",
   "metadata": {},
   "outputs": [],
   "source": [
    "def _get_info(self):\n",
    "    return {\n",
    "        \"distance\": np.linalg.norm(\n",
    "            self._agent_lo\n",
    "        )\n",
    "    }"
   ]
  }
 ],
 "metadata": {
  "kernelspec": {
   "display_name": "box-2d",
   "language": "python",
   "name": "box-2d"
  },
  "language_info": {
   "codemirror_mode": {
    "name": "ipython",
    "version": 3
   },
   "file_extension": ".py",
   "mimetype": "text/x-python",
   "name": "python",
   "nbconvert_exporter": "python",
   "pygments_lexer": "ipython3",
   "version": "3.13.1"
  }
 },
 "nbformat": 4,
 "nbformat_minor": 5
}
