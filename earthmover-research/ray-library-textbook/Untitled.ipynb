{
 "cells": [
  {
   "cell_type": "code",
   "execution_count": 1,
   "id": "194d4bae-24f9-4f73-a1de-c24cfe5baa0d",
   "metadata": {},
   "outputs": [],
   "source": [
    "import ray"
   ]
  },
  {
   "cell_type": "code",
   "execution_count": null,
   "id": "0d15edbf-b4ce-4cfb-8ed6-70ed81f76037",
   "metadata": {},
   "outputs": [],
   "source": [
    "ray.init(address="
   ]
  },
  {
   "cell_type": "code",
   "execution_count": null,
   "id": "65f76fe8-1091-4743-9eed-aae15bd9d8b6",
   "metadata": {},
   "outputs": [],
   "source": [
    "# creating a dataset from a Python dictionary containing string name and integer value data\n",
    "items = [{\"name\": str(i), \"data\": i} for i in range(10000)]\n",
    "\n",
    "# creating a dataset by using from_items from the ray.data module\n",
    "ds = ray.data.from_items(items)\n",
    "\n",
    "# printing the first five items of the dataset\n",
    "ds.show(5)"
   ]
  },
  {
   "cell_type": "code",
   "execution_count": null,
   "id": "4cd66889-042d-4cc7-a62a-3fcb50ef37a9",
   "metadata": {},
   "outputs": [],
   "source": [
    "# map takes each element of the dataset and transforms it\n",
    "squares = ds.map(lambda x: {'data': x[\"data\"] ** 2})\n",
    "\n",
    "# filter removes data points according to a boolean filter function\n",
    "evens = squares.filter(lambda x: x[\"data\"] % 2 == 0)\n",
    "\n",
    "# flat_map maps values but also \"flattens\" the result\n",
    "cubes = evens.flat_map(lambda x: [{'data': x[\"data\"]}, {'data': x[\"data\"]**3}])\n",
    "\n",
    "# retrieving the first ten elements\n",
    "sample = cubes.take(10)\n",
    "print(sample)"
   ]
  },
  {
   "cell_type": "code",
   "execution_count": null,
   "id": "1064073b-c0bd-43bf-9f11-11eb292cbb2f",
   "metadata": {},
   "outputs": [],
   "source": []
  },
  {
   "cell_type": "code",
   "execution_count": null,
   "id": "50c0fdb4-8539-478c-85f4-98f1d897556c",
   "metadata": {},
   "outputs": [],
   "source": [
    "ray.shutdown()"
   ]
  },
  {
   "cell_type": "code",
   "execution_count": null,
   "id": "4a558401-ce76-4613-8b87-af2e544b5884",
   "metadata": {},
   "outputs": [],
   "source": []
  }
 ],
 "metadata": {
  "kernelspec": {
   "display_name": "ray-kernel",
   "language": "python",
   "name": "ray-kernel"
  },
  "language_info": {
   "codemirror_mode": {
    "name": "ipython",
    "version": 3
   },
   "file_extension": ".py",
   "mimetype": "text/x-python",
   "name": "python",
   "nbconvert_exporter": "python",
   "pygments_lexer": "ipython3",
   "version": "3.10.16"
  }
 },
 "nbformat": 4,
 "nbformat_minor": 5
}
